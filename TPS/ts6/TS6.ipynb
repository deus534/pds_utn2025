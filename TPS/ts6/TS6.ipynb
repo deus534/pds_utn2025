{
 "cells": [
  {
   "cell_type": "markdown",
   "id": "953f29b6-31b8-4aff-8594-b41a4de56bb9",
   "metadata": {},
   "source": [
    "## TS6 - VENTANAS EN ACCION\n",
    "\n",
    "<p>\n",
    "    En esta tarea semanal se aborda el problema de cuantificar una señal ya sea en amplitud o frecuencia por lo que se trata de realizar una aplicacion de ventanas que es lo que nos ayuda a limitar esta problematica y tener algunas mejores estimaciones de estimaciones de amplitud, frecuencia o espectro, el caso que fuere.\n",
    "</p>\n",
    "<p>\n",
    "    Para el cual se hace uso de las ventanas que se usaran 4 tipos de ventanas que son de flattop, blackman, bohman y boxcar que esta ultima es como que se hiciera sin ventana.\n",
    "</p>\n",
    "<p>\n",
    "    Para lo cual se usarara unas 200 señales creadas por nosotros en una cierta frecuencia central fs/4 la cual varia entre 2 y -2, es decir [fs/4 - 2, fs/4+2] y tambien a cada señal senoidal se le agrega un ruido de 3db y 10 db.\n",
    "</p>\n",
    "<p>\n",
    "    Para obtener los distintos estimadores tanto de amplitud como de frecuencia se usara la esperanza y la varianza de todas las señales, teniendo asi un analisis bastante amplio.\n",
    "</p>"
   ]
  },
  {
   "cell_type": "markdown",
   "id": "14c6699a-d8ca-421d-ad88-6184e354c34f",
   "metadata": {},
   "source": [
    "## ANALISIS\n",
    "<div>\n",
    "    <p>LLendo a la parte del codigo se puede separar en tres distintas partes donde cada una se encarga de una parte fundamental. Donde se utilizaron las librerias de numpy para poder obtener señales basicas como senoidales y demas, matplotlib.pyplot para la graficacion y scipy.signal para las obtener la señal en frecuencia dependiendo si lo quiero realizar con un metodo u otro</p>\n",
    "</div>"
   ]
  },
  {
   "cell_type": "markdown",
   "id": "f76edfa9-6718-4bac-b6d5-ac3dd1c3d6a6",
   "metadata": {},
   "source": [
    "<div>\n",
    "    <p>En esta parte de codigo simplemente se importan los modulos que se llegaran a usar ademas de la declaracion de los distintos valores que se usara como por ejemplo la frecuencia central de trabajo de la señal que se efectua en fs/4 que es a los 250 Hz ademas de definir un ruido generado para dos distintos valores uno de 3 db y otro de 10 db.</p>\n",
    "</div>"
   ]
  },
  {
   "cell_type": "code",
   "execution_count": 7,
   "id": "8a676e98-7fd4-4680-aeb8-cbd7974af719",
   "metadata": {},
   "outputs": [],
   "source": [
    "import numpy as np\n",
    "import matplotlib.pyplot as plt\n",
    "import scipy.signal as sig\n",
    "\n",
    "fs = 1000\n",
    "N = 1000\n",
    "k = 200\n",
    "f0 = fs/4\n",
    "SnraDb = 3\n",
    "#SnraDb = 10\n",
    "sigma = 1/(10**(SnraDb/10))\n",
    "a0 = np.sqrt(2)"
   ]
  },
  {
   "cell_type": "markdown",
   "id": "114d994b-b1b6-4250-b8a5-edd4d555c957",
   "metadata": {},
   "source": [
    "<div>\n",
    "    <p>\n",
    "        Seguidamente se realiza una funcion en la que se recibe un tipo de ventana a usar que retorna distintos valores para el posterior grafico, lo que retorna en pocas palabras son la esperanza, varianza que lo hace para tanto la estimacion frecuencial como para la estimacion de amplitud y lo hace mediante el metodo de la fft ventaneada que se menciono.\n",
    "    </p>\n",
    "    <p>\n",
    "        Llendo mas detalladamente a lo que se realizo fue basicamente lo siguiente, se creo un tamaño de k=200 valores de senos con un ruido de SnraDb la cual luego se multiplica mi señal por una ventana que se elige el que se desee, que en nuestro caso seria la de flattop, blackman o boxcar. Resumiendolo se crea unos 200 senos de frecuencia f0=250 Hz + una vairable aleatoria que varia entre [-2 y 2], es decir que se crea unas 200 frecuencias que varian en torno a 250 +-2 Hz a las cuales se le suma a cada seno un ruido distinto de SnraDb que luego se la multiplica por una ventana que la elejimos, por ejemplo blackman luego se le realiza la fft a cada ventana para obtener su espectro en frecuencia y poder trabajar en ese contexto.\n",
    "    </p>\n",
    "    <p>\n",
    "        Seguidamente se realiza el analisis de la estimacion para los 200 senos que varian en amplitud un SnrDb por asi decirlo y que tambien varian en frecuencia entre (f0+-2), entonces teniendo ya nuestra señal creada se realiza la estimacion de amplitud como que se busca la frecuencia de mayor valor entre nuestra fft-nuestras frecuencias centradas en f0+-2, que luego se le saca el valor valor absoluto, y se suma cada una a un vector de amplitudes, del mismo modo en la frecuencia se la realiza pero obteniendo el valor de la frecuencia en ese argumento que se busca. \n",
    "    </p>\n",
    "    <p>\n",
    "        Luego para sacar la estimacion del valor se saca la media y la varianza de los valores obtenidos que se tiene y se lo retorna en unos vectores para su posterior demostracion.\n",
    "    </p>\n",
    "</div>"
   ]
  },
  {
   "cell_type": "code",
   "execution_count": 6,
   "id": "e8342a72-30ba-4613-9020-9fa7443ed74d",
   "metadata": {},
   "outputs": [],
   "source": [
    "def analisis(vent):\n",
    "    fr = np.random.uniform(-2,2,k)\n",
    "    win = sig.windows.get_window(vent, N)\n",
    "    f1 = f0 + fr\n",
    "\n",
    "    tt = np.arange(0, N/fs, 1/fs)\n",
    "    ff = np.arange(0, N) \n",
    "    bfrec = ff<fs/2\n",
    "    \n",
    "    xx = [(a0*np.sin(2*np.pi*f1[i]*tt) + np.random.normal(0, np.sqrt(sigma), N))*win for i in range(k)]\n",
    "    ff_xx = [np.fft.fft(xx[i])/N for i in range(k)]\n",
    "    #db_xx = [(10*np.log10(np.abs(ff_xx[i])**2)) for i in range(k)]\n",
    "    \n",
    "    a_i = []\n",
    "    f_i = []\n",
    "    for i in range(k):\n",
    "        idx = np.argmax(np.abs(ff[bfrec]-f1[i]))\n",
    "        a_i.append(2*np.abs(ff_xx[i][idx]))\n",
    "        f_i.append(ff[np.argmax(np.abs(ff_xx[i][bfrec]))])\n",
    "    mu_a = np.mean(a_i)\n",
    "    s_a = mu_a - a0\n",
    "    v_a = np.mean((a_i - mu_a)**2)\n",
    "    \n",
    "    mu_f = np.mean(f_i)\n",
    "    s_f = mu_f - f0\n",
    "    v_f = np.mean((f_i - mu_f)**2)\n",
    "    return a_i, f_i, [mu_a, s_a, v_a], [mu_f, s_f, v_f]"
   ]
  },
  {
   "cell_type": "markdown",
   "id": "c2cd9f53-b43d-40bd-8e3f-004aa1a0f823",
   "metadata": {},
   "source": [
    "<div>\n",
    "    <p>\n",
    "        Aca simplemente se grafica para los distintos tipos de ventanas, que en nuestro caso se eligio 4 tipos de ventanas, boxcar, flattop, blackman, bohman. Esta experimentacion se realizo para 2 distintos tipos de ruido de 3db y 10db.\n",
    "    </p>\n",
    "</div>"
   ]
  },
  {
   "cell_type": "code",
   "execution_count": 5,
   "id": "27eb63f2-1225-48dc-9b02-5870625decec",
   "metadata": {},
   "outputs": [],
   "source": [
    "values = {\n",
    "        'boxcar': analisis('boxcar'),\n",
    "        'flattop': analisis('flattop'),\n",
    "        'blackman': analisis('blackman'),\n",
    "        'bohman': analisis('bohman')\n",
    "    }\n",
    "\n",
    "def graficar(values):\n",
    "    \n",
    "    plt.figure(figsize=(12,6))\n",
    "    plt.hist(values['boxcar'][0], alpha=0.7)\n",
    "    plt.hist(values['flattop'][0], alpha=0.7)\n",
    "    plt.hist(values['blackman'][0], alpha=0.7)\n",
    "    plt.hist(values['bohman'][0], alpha=0.7)\n",
    "    plt.legend([\n",
    "            'boxcar',\n",
    "            'flattop',\n",
    "            'blackman',\n",
    "            'bohman'\n",
    "        ])\n",
    "    plt.savefig(f'histograma_normal_{SnraDb}DB.png')\n",
    "    plt.show()\n",
    "    \n",
    "    plt.figure(figsize=(12,6))\n",
    "    plt.hist(values['boxcar'][1], alpha=0.7)\n",
    "    plt.hist(values['flattop'][1], alpha=0.7)\n",
    "    plt.hist(values['blackman'][1], alpha=0.7)\n",
    "    plt.hist(values['bohman'][1], alpha=0.5)\n",
    "    plt.legend([\n",
    "            'boxcar',\n",
    "            'flattop',\n",
    "            'blackman',\n",
    "            'bohman'\n",
    "        ])\n",
    "    plt.savefig(f'histograma_frecuencia_{SnraDb}DB.png')\n",
    "    plt.show()\n",
    "    \n",
    "    cell_data = [\n",
    "        ['boxcar', *values['boxcar'][2]],\n",
    "        ['flattop', *values['flattop'][2]],\n",
    "        ['blackman', *values['blackman'][2]],\n",
    "        ['bohman', *values['bohman'][2]]\n",
    "        ]\n",
    "    colum_labels = ['$window$', '$\\mu_a$', '$S_a$', '$V_a$']\n",
    "    \n",
    "    fig, ax = plt.subplots(figsize=(12,6))\n",
    "    ax.axis('off')\n",
    "    table = ax.table(cellText=cell_data, colLabels=colum_labels, loc='center' )\n",
    "    table.auto_set_font_size(False)\n",
    "    table.set_fontsize(10)\n",
    "    table.scale(1, 4)  # Escala ancho y alto\n",
    "    plt.savefig(f'tabla_valores_{SnraDb}DB.png')\n",
    "    plt.show()\n",
    "\n",
    "#graficar(values)"
   ]
  },
  {
   "cell_type": "markdown",
   "id": "1cc18364-35ba-4bb5-950f-35a1ffe23332",
   "metadata": {},
   "source": [
    "<figure style=align-items:center;>\n",
    "    <figcaption style=text-align:center;>Histograma en Frecuencia 3 dB</figcaption>\n",
    "    <img src=\"histograma_frecuencia_3DB.png\" alt=\"3 dB\">\n",
    "</figure>\n",
    "<figure style=align-items:center;>\n",
    "    <figcaption style=text-align:center;>Histograma en Frecuencia 10 dB</figcaption>\n",
    "    <img src='histograma_frecuencia_10DB.png'>\n",
    "</figure>\n",
    "<div>\n",
    "    <p>Se pueden observar en los graficos para los distintos tipos de snr como funciona y como va variando mas debido a que tiene un mayor ruido ademas de que para cada tipo de ventana se muestra de distinta manera por lo que se puede observar como cada tipo de ventana afecta y cual puede ser la mejor opcion para realizar nuestros posteriores analisis.</p>\n",
    "</div>"
   ]
  },
  {
   "cell_type": "markdown",
   "id": "2fb9861c-1dfd-4ab5-984e-6b793181d043",
   "metadata": {},
   "source": [
    "<figure style=align-items:center;>\n",
    "    <figcaption style=text-align:center;>Histograma amplitud 3 dB</figcaption>\n",
    "    <img src=\"histograma_normal_3DB.png\">\n",
    "</figure>\n",
    "<figure style=align-items:center;>\n",
    "    <figcaption style=text-align:center;>Histograma amplitud 10 dB</figcaption>\n",
    "    <img src=\"histograma_normal_10DB.png\" >\n",
    "</figure>\n",
    "<div>\n",
    "    <p>Aca se puede observar el histograma de la estimacion de amplitud donde se observa para cada distinta ventana se puede llegar a apreciar una menor dispersion, tambien podemos notar que la ventana que siempre estara presente para nosotros que es la boxcar es la que tiene mayor dispersion por lo que no es una buena opcion para realizar una estimacion de amplitud en si.</p>\n",
    "</div>"
   ]
  },
  {
   "cell_type": "markdown",
   "id": "29440c95-1e83-4ca0-a2cc-48fe355b1dc7",
   "metadata": {},
   "source": [
    "<figure style=align-items:center;>\n",
    "    <figcaption style=text-align:center;>Tabla a 3 dB</figcaption>\n",
    "    <img src=\"tabla_valores_3DB.png\" >\n",
    "</figure>\n",
    "<figure style=align-items:center;>\n",
    "    <figcaption style=text-align:center;>Tabla a 10 dB</figcaption>\n",
    "    <img src=\"tabla_valores_10DB.png\" >\n",
    "</figure>\n",
    "<div>\n",
    "    <p>Podemos observar los distintos valores que se obtuvieron de media y variacion y aca tambien se puede ver que la variacion de la ventana de tipo boxcar tanto para 3 db como para 10 db es mas alta que las demas ventanas, lo cual nos dice que realizar una simple fft sin realizar un buen ventaneo puede no ser tan bueno en algunos casos.</p>\n",
    "</div>"
   ]
  },
  {
   "cell_type": "markdown",
   "id": "c012f547-bca1-4b99-a265-19a72d8b129f",
   "metadata": {
    "jp-MarkdownHeadingCollapsed": true
   },
   "source": [
    "## CONCLUSIONES\n",
    "\n",
    "<p>\n",
    "    LLendo al final se pudo experimentar y ver las distintas estimaciones para las distintas ventanas teniendo algunas una menor variacion lo cual es algo que se desea y que es mejor realizarla de esta manera.\n",
    "</p>\n",
    "<p>\n",
    "    Por lo que se puede decir que realizar simplemente la fft esta bien para analisis simples ya que te permite ver el espectro de frecuencia y ver detalles de como es el espectro y todo lo que fuere. Pero para casos mas complejos la fft se nos queda corto y pudimos observar con la experimentacion que existen mejores herramientas para obtener el espectro, como por ejemplo con el ventaneo teniendo una ventana tipo blackman tenemos una variacion minima por lo que podria ser una opcion muy viable que nos permita trabajar.\n",
    "</p>\n",
    "<p>\n",
    "    Tambien existen ya herramientas que estan diseñadas en python como el periodograma que incluye ya el ventaneo y la fft, es decir que lo que realiza el periodograma de la libreria scipy.signal nos da como que una fft ya ventaneada con el tipo de ventana que nosotros elijamos ademas de que permite algunos otros datos adicionales que se pueden incluir.\n",
    "</p>"
   ]
  }
 ],
 "metadata": {
  "kernelspec": {
   "display_name": "Python 3 (ipykernel)",
   "language": "python",
   "name": "python3"
  },
  "language_info": {
   "codemirror_mode": {
    "name": "ipython",
    "version": 3
   },
   "file_extension": ".py",
   "mimetype": "text/x-python",
   "name": "python",
   "nbconvert_exporter": "python",
   "pygments_lexer": "ipython3",
   "version": "3.13.5"
  }
 },
 "nbformat": 4,
 "nbformat_minor": 5
}
